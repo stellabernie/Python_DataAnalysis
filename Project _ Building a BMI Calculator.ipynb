{
 "cells": [
  {
   "cell_type": "markdown",
   "id": "cd4bcb92",
   "metadata": {},
   "source": [
    "Online resource for calculations reference: https://mercer-health.com/services/weight-management-center/bmi-calculator#:~:text=Body%20Mass%20Index%2C%20or%20BMI,inches%20x%20height%20in%20inches"
   ]
  },
  {
   "cell_type": "markdown",
   "id": "9163f05d",
   "metadata": {},
   "source": [
    "-----------------------------------------------------------\n",
    "BMI Information derived from site, to contextualise result:\n",
    "\n",
    "- Under 18.5 is Underweight\n",
    "- 18.5 - 24.9 is Normal Weight\n",
    "- 25 - 29.9 is Overweight\n",
    "- 30 - 34.9 is Obese\n",
    "- 35 - 39.9 is Severly Obese\n",
    "- 40 and over is Morbidly Obese"
   ]
  },
  {
   "cell_type": "markdown",
   "id": "3011d191",
   "metadata": {},
   "source": [
    "----------------------------------------------------------------------\n",
    "{BMI Calculation}\n",
    "\n",
    "BMI = (weight in pounds x 703) / (height in inches x height in inches)"
   ]
  },
  {
   "cell_type": "code",
   "execution_count": 4,
   "id": "bd840a41",
   "metadata": {},
   "outputs": [
    {
     "name": "stdout",
     "output_type": "stream",
     "text": [
      "Please enter your name: Dorianne\n",
      "Please enter your weight in pounds: 132\n",
      "Please enter your height in inches: 65\n",
      "Your BMI is: 22\n",
      "Dorianne, you are normal weight.\n"
     ]
    }
   ],
   "source": [
    "#Creating the calculator\n",
    "\n",
    "#Calculator Inputs & User Prompts\n",
    "name = input(\"Please enter your name: \")\n",
    "weight = int(input(\"Please enter your weight in pounds: \"))\n",
    "height = int(input(\"Please enter your height in inches: \"))\n",
    "\n",
    "#Calculation\n",
    "BMI = (weight*703) / (height*height)\n",
    "print('Your BMI is:', round(BMI))\n",
    "\n",
    "#Calculator Logic\n",
    "if BMI>0:\n",
    "    if(BMI< 18.5):\n",
    "        print(name + \", you are underweight.\")\n",
    "    elif(BMI<= 24.9):\n",
    "        print(name + \", you are normal weight.\")   \n",
    "    elif(BMI<= 29.9):\n",
    "        print(name + \", you are overweight. Double check the details you have entered otherwise consider a lifstyle change.\")\n",
    "    elif(BMI<= 34.9):\n",
    "        print(name + \", you are obese.\")\n",
    "    elif(BMI<= 39.9):\n",
    "        print(name + \", you are severly obese.\")\n",
    "    elif(BMI > 39.9):\n",
    "        print(name + \", you are morbidly obese.\")   \n",
    "    else:\n",
    "        print(\"Please recheck inputs entered.\")"
   ]
  }
 ],
 "metadata": {
  "kernelspec": {
   "display_name": "Python 3 (ipykernel)",
   "language": "python",
   "name": "python3"
  },
  "language_info": {
   "codemirror_mode": {
    "name": "ipython",
    "version": 3
   },
   "file_extension": ".py",
   "mimetype": "text/x-python",
   "name": "python",
   "nbconvert_exporter": "python",
   "pygments_lexer": "ipython3",
   "version": "3.11.4"
  }
 },
 "nbformat": 4,
 "nbformat_minor": 5
}
