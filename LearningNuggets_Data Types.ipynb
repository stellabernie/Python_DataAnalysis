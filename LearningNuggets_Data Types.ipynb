{
 "cells": [
  {
   "cell_type": "markdown",
   "id": "eecfdab2",
   "metadata": {},
   "source": [
    "DATA TYPES"
   ]
  },
  {
   "cell_type": "code",
   "execution_count": null,
   "id": "c2f4b7c3",
   "metadata": {},
   "outputs": [],
   "source": [
    "#Numeric: integers, floats, complex numbers\n",
    "#Boolean: True or False\n",
    "#Sequence: Strings, Lists & Tuples\n",
    "#Set:\n",
    "#Dictionary:\n",
    "\n"
   ]
  },
  {
   "cell_type": "code",
   "execution_count": null,
   "id": "0e0f70e3",
   "metadata": {},
   "outputs": [],
   "source": [
    "#NUMERIC"
   ]
  },
  {
   "cell_type": "code",
   "execution_count": 25,
   "id": "5dfaf2e4",
   "metadata": {},
   "outputs": [],
   "source": [
    "#integer = whole number e.g 1\n",
    "#float = decimal e.g 1.1\n",
    "#complex = 12 + 3j where j is an imaginary number"
   ]
  },
  {
   "cell_type": "code",
   "execution_count": 26,
   "id": "75c4fe59",
   "metadata": {},
   "outputs": [],
   "source": [
    "#BOOLEAN"
   ]
  },
  {
   "cell_type": "code",
   "execution_count": null,
   "id": "f4a21c28",
   "metadata": {},
   "outputs": [],
   "source": [
    "(run the below individually)\n",
    "type(1>5)\n",
    "1>5\n",
    "1<5\n",
    "1==1"
   ]
  },
  {
   "cell_type": "code",
   "execution_count": 28,
   "id": "b5775ec9",
   "metadata": {},
   "outputs": [],
   "source": [
    "#SEQUENCE"
   ]
  },
  {
   "cell_type": "code",
   "execution_count": 27,
   "id": "fae9b4d5",
   "metadata": {},
   "outputs": [
    {
     "name": "stdout",
     "output_type": "stream",
     "text": [
      "  \n",
      "The ice cream vanished\n",
      "my longing for sweets,\n",
      "upon this diet I look away,\n",
      "it no longer exists on this day.\n",
      "\n"
     ]
    }
   ],
   "source": [
    "#Strings: stores multiple characters\n",
    "'Single Quote'\n",
    "\"Double Quote\"\n",
    "\n",
    "multiline = \"\"\"  \n",
    "The ice cream vanished\n",
    "my longing for sweets,\n",
    "upon this diet I look away,\n",
    "it no longer exists on this day.\n",
    "\"\"\" \n",
    "\n",
    "print(multiline)"
   ]
  },
  {
   "cell_type": "code",
   "execution_count": null,
   "id": "8d83d71b",
   "metadata": {},
   "outputs": [],
   "source": [
    "#when we have a quote within a sentence, negate using either double or triple quotes.\n",
    "\"I've always wanted to eat water.\"\n",
    "\n",
    "\"\"\" \n",
    "I've always wanted to eat \"water\".\n",
    "\"\"\" "
   ]
  },
  {
   "cell_type": "code",
   "execution_count": 20,
   "id": "3cb00dd3",
   "metadata": {},
   "outputs": [],
   "source": [
    "#Indexing"
   ]
  },
  {
   "cell_type": "code",
   "execution_count": 17,
   "id": "fe4a673f",
   "metadata": {},
   "outputs": [],
   "source": [
    "a = \"Hello World\""
   ]
  },
  {
   "cell_type": "code",
   "execution_count": 18,
   "id": "68fcfecc",
   "metadata": {},
   "outputs": [
    {
     "name": "stdout",
     "output_type": "stream",
     "text": [
      " \n"
     ]
    }
   ],
   "source": [
    "print(a[5])"
   ]
  },
  {
   "cell_type": "code",
   "execution_count": 21,
   "id": "1b09ec43",
   "metadata": {},
   "outputs": [
    {
     "name": "stdout",
     "output_type": "stream",
     "text": [
      "W\n"
     ]
    }
   ],
   "source": [
    "print(a[6])"
   ]
  },
  {
   "cell_type": "code",
   "execution_count": 22,
   "id": "2dbae88f",
   "metadata": {},
   "outputs": [
    {
     "name": "stdout",
     "output_type": "stream",
     "text": [
      "r\n"
     ]
    }
   ],
   "source": [
    "print(a[-3])"
   ]
  },
  {
   "cell_type": "code",
   "execution_count": 23,
   "id": "a1d20034",
   "metadata": {},
   "outputs": [
    {
     "name": "stdout",
     "output_type": "stream",
     "text": [
      "llo\n"
     ]
    }
   ],
   "source": [
    "print(a[2:5])"
   ]
  },
  {
   "cell_type": "code",
   "execution_count": 24,
   "id": "78388cc6",
   "metadata": {},
   "outputs": [
    {
     "data": {
      "text/plain": [
       "'Hello WorldHello WorldHello World'"
      ]
     },
     "execution_count": 24,
     "metadata": {},
     "output_type": "execute_result"
    }
   ],
   "source": [
    "a*3"
   ]
  },
  {
   "cell_type": "code",
   "execution_count": 29,
   "id": "4725112e",
   "metadata": {},
   "outputs": [],
   "source": [
    "#Lists: store multiple seperate values. Indexed just like a string is indexed, starting with 0"
   ]
  },
  {
   "cell_type": "code",
   "execution_count": 30,
   "id": "551de47c",
   "metadata": {},
   "outputs": [
    {
     "data": {
      "text/plain": [
       "[1, 2, 3]"
      ]
     },
     "execution_count": 30,
     "metadata": {},
     "output_type": "execute_result"
    }
   ],
   "source": [
    "[1,2,3]"
   ]
  },
  {
   "cell_type": "code",
   "execution_count": 31,
   "id": "db9f773d",
   "metadata": {},
   "outputs": [
    {
     "data": {
      "text/plain": [
       "['Cookie Dough', 'Strawberry', 'Chocolate']"
      ]
     },
     "execution_count": 31,
     "metadata": {},
     "output_type": "execute_result"
    }
   ],
   "source": [
    "['Cookie Dough', 'Strawberry', 'Chocolate']"
   ]
  },
  {
   "cell_type": "code",
   "execution_count": 32,
   "id": "fb9a0191",
   "metadata": {},
   "outputs": [
    {
     "data": {
      "text/plain": [
       "['Vanilla', 3, ['Scoops', 'Spoon'], True]"
      ]
     },
     "execution_count": 32,
     "metadata": {},
     "output_type": "execute_result"
    }
   ],
   "source": [
    "['Vanilla', 3, ['Scoops', 'Spoon'], True]"
   ]
  },
  {
   "cell_type": "code",
   "execution_count": 33,
   "id": "8ed499ac",
   "metadata": {},
   "outputs": [
    {
     "data": {
      "text/plain": [
       "['Cookie Dough', 'Strawberry', 'Chocolate', 'Salted Caramel']"
      ]
     },
     "execution_count": 33,
     "metadata": {},
     "output_type": "execute_result"
    }
   ],
   "source": [
    "#adding data to the end of a list\n",
    "\n",
    "ice_cream = ['Cookie Dough', 'Strawberry', 'Chocolate']\n",
    "ice_cream.append ('Salted Caramel')\n",
    "ice_cream"
   ]
  },
  {
   "cell_type": "code",
   "execution_count": 34,
   "id": "8d57fd0f",
   "metadata": {},
   "outputs": [
    {
     "data": {
      "text/plain": [
       "['Butter Pecan', 'Strawberry', 'Chocolate', 'Salted Caramel']"
      ]
     },
     "execution_count": 34,
     "metadata": {},
     "output_type": "execute_result"
    }
   ],
   "source": [
    "#changing a value in a list\n",
    "ice_cream [0] = 'Butter Pecan'\n",
    "ice_cream"
   ]
  },
  {
   "cell_type": "code",
   "execution_count": 35,
   "id": "fa65fe59",
   "metadata": {},
   "outputs": [],
   "source": [
    "nested_list = ['Vanilla', 3, ['Scoops', 'Spoon'], True]"
   ]
  },
  {
   "cell_type": "code",
   "execution_count": 36,
   "id": "09eb8daf",
   "metadata": {},
   "outputs": [
    {
     "data": {
      "text/plain": [
       "['Scoops', 'Spoon']"
      ]
     },
     "execution_count": 36,
     "metadata": {},
     "output_type": "execute_result"
    }
   ],
   "source": [
    "#searching for a value within a nested list\n",
    "nested_list[2]"
   ]
  },
  {
   "cell_type": "code",
   "execution_count": 37,
   "id": "2c0b5105",
   "metadata": {},
   "outputs": [
    {
     "data": {
      "text/plain": [
       "'Spoon'"
      ]
     },
     "execution_count": 37,
     "metadata": {},
     "output_type": "execute_result"
    }
   ],
   "source": [
    "nested_list[2][1]"
   ]
  },
  {
   "cell_type": "code",
   "execution_count": 38,
   "id": "880da790",
   "metadata": {},
   "outputs": [],
   "source": [
    "#Tuple: unlike a list, a tuple cannot be modified or changed once created\n",
    "#Note, it uses an open parenthesis which usually is used to execute a function but for tuples, it works to create a tuple\n",
    "#Note, tuple as an object/data type doesn't work with the append attribute (adding values at the end)\n",
    "#Use cases is using it for data that will never change, but not very popular"
   ]
  },
  {
   "cell_type": "code",
   "execution_count": 39,
   "id": "ff27bcb1",
   "metadata": {},
   "outputs": [],
   "source": [
    "tuple_scoops = (1, 2, 3, 2,1)"
   ]
  },
  {
   "cell_type": "code",
   "execution_count": 40,
   "id": "0d99736d",
   "metadata": {},
   "outputs": [
    {
     "data": {
      "text/plain": [
       "tuple"
      ]
     },
     "execution_count": 40,
     "metadata": {},
     "output_type": "execute_result"
    }
   ],
   "source": [
    "type (tuple_scoops)"
   ]
  },
  {
   "cell_type": "code",
   "execution_count": 41,
   "id": "047a0d20",
   "metadata": {},
   "outputs": [
    {
     "data": {
      "text/plain": [
       "1"
      ]
     },
     "execution_count": 41,
     "metadata": {},
     "output_type": "execute_result"
    }
   ],
   "source": [
    "tuple_scoops[0]"
   ]
  },
  {
   "cell_type": "code",
   "execution_count": null,
   "id": "0a135a3c",
   "metadata": {},
   "outputs": [],
   "source": [
    "tuple_scoops"
   ]
  },
  {
   "cell_type": "code",
   "execution_count": 44,
   "id": "9bc84eb8",
   "metadata": {},
   "outputs": [],
   "source": [
    "#SET: they contain no duplicate elements, can't be accessed using indexing bc it is unordered - will have to loop through using a for loop\n",
    "#A use case can be comapring 2 differents sets: like converting a tuple into a set, identify its unique values, compare unqiue values of one set into those of different sets"
   ]
  },
  {
   "cell_type": "code",
   "execution_count": 45,
   "id": "06ff8959",
   "metadata": {},
   "outputs": [],
   "source": [
    "daily_prints = {1,2, 3}"
   ]
  },
  {
   "cell_type": "code",
   "execution_count": 46,
   "id": "cf3789b5",
   "metadata": {},
   "outputs": [
    {
     "data": {
      "text/plain": [
       "set"
      ]
     },
     "execution_count": 46,
     "metadata": {},
     "output_type": "execute_result"
    }
   ],
   "source": [
    "type(daily_prints)"
   ]
  },
  {
   "cell_type": "code",
   "execution_count": 47,
   "id": "fd46557a",
   "metadata": {},
   "outputs": [
    {
     "name": "stdout",
     "output_type": "stream",
     "text": [
      "{1, 2, 3}\n"
     ]
    }
   ],
   "source": [
    "print(daily_prints)"
   ]
  },
  {
   "cell_type": "code",
   "execution_count": 58,
   "id": "c4e289e3",
   "metadata": {},
   "outputs": [
    {
     "name": "stdout",
     "output_type": "stream",
     "text": [
      "{1, 2, 3, 4, 5, 6, 31}\n"
     ]
    }
   ],
   "source": [
    "my_daily_prints_log = {1,2,31,4,5,6,1,2,4,2,1,3}\n",
    "print(my_daily_prints_log)"
   ]
  },
  {
   "cell_type": "code",
   "execution_count": 59,
   "id": "4d3610d8",
   "metadata": {},
   "outputs": [],
   "source": [
    "husbae_daily_prints_log = {1,2,4,5,6,7,8}"
   ]
  },
  {
   "cell_type": "code",
   "execution_count": 60,
   "id": "cd2d2eab",
   "metadata": {},
   "outputs": [
    {
     "name": "stdout",
     "output_type": "stream",
     "text": [
      "{1, 2, 3, 4, 5, 6, 7, 8, 31}\n"
     ]
    }
   ],
   "source": [
    "#all unique values between the 2 sets will be printed\n",
    "\n",
    "print(my_daily_prints_log | husbae_daily_prints_log)"
   ]
  },
  {
   "cell_type": "code",
   "execution_count": 61,
   "id": "79b6a708",
   "metadata": {},
   "outputs": [
    {
     "name": "stdout",
     "output_type": "stream",
     "text": [
      "{1, 2, 4, 5, 6}\n"
     ]
    }
   ],
   "source": [
    "#will print those that show up in both sets \n",
    "\n",
    "print(my_daily_prints_log & husbae_daily_prints_log)"
   ]
  },
  {
   "cell_type": "code",
   "execution_count": 63,
   "id": "3b0bd012",
   "metadata": {},
   "outputs": [
    {
     "name": "stdout",
     "output_type": "stream",
     "text": [
      "{3, 31}\n"
     ]
    }
   ],
   "source": [
    "#will print  the unique values from the first set compared to the second\n",
    "\n",
    "print(my_daily_prints_log - husbae_daily_prints_log)"
   ]
  },
  {
   "cell_type": "code",
   "execution_count": 64,
   "id": "050dcfdb",
   "metadata": {},
   "outputs": [
    {
     "name": "stdout",
     "output_type": "stream",
     "text": [
      "{8, 7}\n"
     ]
    }
   ],
   "source": [
    "print(husbae_daily_prints_log - my_daily_prints_log)"
   ]
  },
  {
   "cell_type": "code",
   "execution_count": 65,
   "id": "adf1d613",
   "metadata": {},
   "outputs": [
    {
     "name": "stdout",
     "output_type": "stream",
     "text": [
      "{3, 7, 8, 31}\n"
     ]
    }
   ],
   "source": [
    "#prints all unique values\n",
    "\n",
    "print(husbae_daily_prints_log ^ my_daily_prints_log)"
   ]
  },
  {
   "cell_type": "code",
   "execution_count": 66,
   "id": "03c54d23",
   "metadata": {},
   "outputs": [],
   "source": [
    "#DICTIONARIES\n",
    "#key value pair: indicates what that value is attributed to"
   ]
  },
  {
   "cell_type": "code",
   "execution_count": 67,
   "id": "9718a826",
   "metadata": {},
   "outputs": [],
   "source": [
    "dict_cream = {'name': 'Doriane U', 'Weekly Intake': 5, 'favourite ice creams': ['MCC', 'Salted Caramel']}"
   ]
  },
  {
   "cell_type": "code",
   "execution_count": 68,
   "id": "90aa0cec",
   "metadata": {},
   "outputs": [
    {
     "data": {
      "text/plain": [
       "dict"
      ]
     },
     "execution_count": 68,
     "metadata": {},
     "output_type": "execute_result"
    }
   ],
   "source": [
    "type(dict_cream)"
   ]
  },
  {
   "cell_type": "code",
   "execution_count": 69,
   "id": "9b506504",
   "metadata": {},
   "outputs": [
    {
     "name": "stdout",
     "output_type": "stream",
     "text": [
      "{'name': 'Doriane U', 'Weekly Intake': 5, 'favourite ice creams': ['MCC', 'Salted Caramel']}\n"
     ]
    }
   ],
   "source": [
    "print(dict_cream)"
   ]
  },
  {
   "cell_type": "code",
   "execution_count": 71,
   "id": "4be4c166",
   "metadata": {},
   "outputs": [
    {
     "data": {
      "text/plain": [
       "dict_values(['Doriane U', 5, ['MCC', 'Salted Caramel']])"
      ]
     },
     "execution_count": 71,
     "metadata": {},
     "output_type": "execute_result"
    }
   ],
   "source": [
    "dict_cream.values()"
   ]
  },
  {
   "cell_type": "code",
   "execution_count": 72,
   "id": "d16c8683",
   "metadata": {},
   "outputs": [
    {
     "data": {
      "text/plain": [
       "dict_keys(['name', 'Weekly Intake', 'favourite ice creams'])"
      ]
     },
     "execution_count": 72,
     "metadata": {},
     "output_type": "execute_result"
    }
   ],
   "source": [
    "dict_cream.keys()"
   ]
  },
  {
   "cell_type": "code",
   "execution_count": 73,
   "id": "faba3321",
   "metadata": {},
   "outputs": [
    {
     "data": {
      "text/plain": [
       "dict_items([('name', 'Doriane U'), ('Weekly Intake', 5), ('favourite ice creams', ['MCC', 'Salted Caramel'])])"
      ]
     },
     "execution_count": 73,
     "metadata": {},
     "output_type": "execute_result"
    }
   ],
   "source": [
    "dict_cream.items()"
   ]
  },
  {
   "cell_type": "code",
   "execution_count": 75,
   "id": "e722999d",
   "metadata": {},
   "outputs": [
    {
     "data": {
      "text/plain": [
       "'Doriane U'"
      ]
     },
     "execution_count": 75,
     "metadata": {},
     "output_type": "execute_result"
    }
   ],
   "source": [
    "#calling by keys\n",
    "\n",
    "dict_cream['name']"
   ]
  },
  {
   "cell_type": "code",
   "execution_count": 76,
   "id": "c455d73d",
   "metadata": {},
   "outputs": [
    {
     "name": "stdout",
     "output_type": "stream",
     "text": [
      "{'name': 'Dorianne Umuhoza', 'Weekly Intake': 5, 'favourite ice creams': ['MCC', 'Salted Caramel']}\n"
     ]
    }
   ],
   "source": [
    "#updating the values\n",
    "dict_cream['name'] = 'Dorianne Umuhoza'\n",
    "print(dict_cream)"
   ]
  },
  {
   "cell_type": "code",
   "execution_count": 80,
   "id": "d3ce18e4",
   "metadata": {},
   "outputs": [
    {
     "name": "stdout",
     "output_type": "stream",
     "text": [
      "{'name': 'Doriane Umuhoza', 'Weekly Intake': 10, 'favourite ice creams': ['MCC', 'Salted Caramel'], 'weight': 300, 'Weight': 300}\n"
     ]
    }
   ],
   "source": [
    "#update all values at once, it does not delete or replaces key value pairs, merely appends. But it does update value characters that have been altered\n",
    "\n",
    "\n",
    "dict_cream.update({'name': 'Doriane Umuhoza', 'Weekly Intake': 10, 'Weight': 300})\n",
    "print(dict_cream)"
   ]
  },
  {
   "cell_type": "code",
   "execution_count": 81,
   "id": "625f10ae",
   "metadata": {},
   "outputs": [
    {
     "name": "stdout",
     "output_type": "stream",
     "text": [
      "{'name': 'Doriane Umuhoza', 'Weekly Intake': 10, 'favourite ice creams': ['MCC', 'Salted Caramel'], 'Weight': 300}\n"
     ]
    }
   ],
   "source": [
    "#delete \n",
    "\n",
    "del dict_cream['weight']\n",
    "print(dict_cream)\n"
   ]
  },
  {
   "cell_type": "code",
   "execution_count": null,
   "id": "29a96136",
   "metadata": {},
   "outputs": [],
   "source": []
  },
  {
   "cell_type": "code",
   "execution_count": null,
   "id": "12c456df",
   "metadata": {},
   "outputs": [],
   "source": []
  },
  {
   "cell_type": "code",
   "execution_count": null,
   "id": "48a65037",
   "metadata": {},
   "outputs": [],
   "source": []
  },
  {
   "cell_type": "code",
   "execution_count": null,
   "id": "d4ee7bc0",
   "metadata": {},
   "outputs": [],
   "source": []
  },
  {
   "cell_type": "code",
   "execution_count": null,
   "id": "1d0c6339",
   "metadata": {},
   "outputs": [],
   "source": []
  },
  {
   "cell_type": "code",
   "execution_count": null,
   "id": "63a2597d",
   "metadata": {},
   "outputs": [],
   "source": []
  },
  {
   "cell_type": "code",
   "execution_count": null,
   "id": "fdca80c4",
   "metadata": {},
   "outputs": [],
   "source": []
  },
  {
   "cell_type": "code",
   "execution_count": null,
   "id": "9842cc99",
   "metadata": {},
   "outputs": [],
   "source": []
  },
  {
   "cell_type": "code",
   "execution_count": null,
   "id": "79d771c1",
   "metadata": {},
   "outputs": [],
   "source": []
  },
  {
   "cell_type": "code",
   "execution_count": null,
   "id": "c981f500",
   "metadata": {},
   "outputs": [],
   "source": []
  }
 ],
 "metadata": {
  "kernelspec": {
   "display_name": "Python 3 (ipykernel)",
   "language": "python",
   "name": "python3"
  },
  "language_info": {
   "codemirror_mode": {
    "name": "ipython",
    "version": 3
   },
   "file_extension": ".py",
   "mimetype": "text/x-python",
   "name": "python",
   "nbconvert_exporter": "python",
   "pygments_lexer": "ipython3",
   "version": "3.11.4"
  }
 },
 "nbformat": 4,
 "nbformat_minor": 5
}
