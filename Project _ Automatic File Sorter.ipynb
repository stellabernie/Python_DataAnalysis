{
 "cells": [
  {
   "cell_type": "markdown",
   "id": "192439f1",
   "metadata": {},
   "source": [
    "# Automatic File Sorter"
   ]
  },
  {
   "cell_type": "markdown",
   "id": "398c7ae3",
   "metadata": {},
   "source": [
    "Import necessary libaries to facilitate the creation of this program"
   ]
  },
  {
   "cell_type": "code",
   "execution_count": 21,
   "id": "e3b7a46f",
   "metadata": {},
   "outputs": [],
   "source": [
    "import os, shutil"
   ]
  },
  {
   "cell_type": "markdown",
   "id": "63803d64",
   "metadata": {},
   "source": [
    "Copy the pathname where you want the files to be placed into in your pc ~\n",
    "Add an \"r\" at the beginning of the pathanme placed in quotes, this helps python read the file name. ~\n",
    "Make sure to add a backward slash at the end before the end quotes to let python know to create the files in the folder not outside of it. "
   ]
  },
  {
   "cell_type": "code",
   "execution_count": 22,
   "id": "b775c44c",
   "metadata": {},
   "outputs": [],
   "source": [
    "path = r\"/Users/dorianeumuhoza/Library/Mobile Documents/com~apple~CloudDocs/1. My Documents/5. Learning/5.DataAnalysisAlexTheAnalyst/Projects/Python Sorting Project/\""
   ]
  },
  {
   "cell_type": "markdown",
   "id": "1dc4c797",
   "metadata": {},
   "source": [
    "Create a variable with an output that shows us all the files in the path as we want to identidy the types of folders we expect and can use it later to loop through it when moving files as a quality meausre."
   ]
  },
  {
   "cell_type": "code",
   "execution_count": 23,
   "id": "36893c8c",
   "metadata": {},
   "outputs": [],
   "source": [
    "file_name = os.listdir(path)"
   ]
  },
  {
   "cell_type": "markdown",
   "id": "dc4c5f33",
   "metadata": {},
   "source": [
    "Identify if folders already exist or whether we need to create a folder"
   ]
  },
  {
   "cell_type": "code",
   "execution_count": 26,
   "id": "a0fa26c5",
   "metadata": {},
   "outputs": [],
   "source": [
    "#either we can hard code it and check if the outcome is true or false, which can be cumbersome because we would need to loop through each one..\n",
    "os.path.exists(path + 'xlsx files')\n",
    "\n",
    "#or we can loop through it. This is the folder names we expect to have in the path\n",
    "folder_names = ['xlsx files', 'log files', 'image files']\n",
    "\n",
    "#Looping through the folder names, in the event that anyone does not exist, it gets created. \n",
    "for loop in range(0,3):\n",
    "    if not os.path.exists(path + folder_names[loop]):\n",
    "        os.makedirs(path +folder_names[loop])\n",
    "    \n"
   ]
  },
  {
   "cell_type": "code",
   "execution_count": null,
   "id": "422f2d39",
   "metadata": {},
   "outputs": [],
   "source": [
    "#Write a script to check each file individually, and place it in its correct folder"
   ]
  },
  {
   "cell_type": "code",
   "execution_count": 27,
   "id": "c39845c0",
   "metadata": {},
   "outputs": [],
   "source": [
    "for file in file_name:\n",
    "    if \".xlsx\" in file and not os.path.exists(path + \"xlsx files/\" + file):\n",
    "        shutil.move(path + file, path + \"xlsx files/\" + file )\n",
    "    elif \".log\" in file and not os.path.exists(path + \"log files/\" + file):\n",
    "        shutil.move(path + file, path + \"log files/\" + file )\n",
    "    elif \".png\" in file and not os.path.exists(path + \"image files/\" + file):\n",
    "        shutil.move(path + file, path + \"image files/\" + file )"
   ]
  },
  {
   "cell_type": "code",
   "execution_count": null,
   "id": "1463aa5c",
   "metadata": {},
   "outputs": [],
   "source": []
  },
  {
   "cell_type": "code",
   "execution_count": null,
   "id": "ecb4c300",
   "metadata": {},
   "outputs": [],
   "source": []
  },
  {
   "cell_type": "code",
   "execution_count": null,
   "id": "fea3494c",
   "metadata": {},
   "outputs": [],
   "source": []
  },
  {
   "cell_type": "code",
   "execution_count": null,
   "id": "c067e016",
   "metadata": {},
   "outputs": [],
   "source": []
  }
 ],
 "metadata": {
  "kernelspec": {
   "display_name": "Python 3 (ipykernel)",
   "language": "python",
   "name": "python3"
  },
  "language_info": {
   "codemirror_mode": {
    "name": "ipython",
    "version": 3
   },
   "file_extension": ".py",
   "mimetype": "text/x-python",
   "name": "python",
   "nbconvert_exporter": "python",
   "pygments_lexer": "ipython3",
   "version": "3.11.4"
  }
 },
 "nbformat": 4,
 "nbformat_minor": 5
}
